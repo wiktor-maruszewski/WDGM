{
 "cells": [
  {
   "cell_type": "code",
   "execution_count": 43,
   "metadata": {
    "collapsed": true
   },
   "outputs": [],
   "source": [
    "from enum import Enum\n",
    "import numpy as np\n",
    "from matplotlib.image import imread\n",
    "from matplotlib.image import imsave\n",
    "from matplotlib.pyplot import imshow\n",
    "import matplotlib.pyplot as plt\n",
    "import sys\n",
    "\n",
    "\n",
    "class ColorModel(Enum):\n",
    "    rgb = 0\n",
    "    hsv = 1\n",
    "    hsi = 2\n",
    "    hsl = 3\n",
    "    gray = 4  # obraz 2d"
   ]
  },
  {
   "cell_type": "code",
   "execution_count": 54,
   "outputs": [],
   "source": [
    "class BaseImage:\n",
    "    data: np.ndarray  # tensor przechowujacy piksele obrazu\n",
    "    color_model: ColorModel  # atrybut przechowujacy biezacy model barw obrazu\n",
    "\n",
    "    def __init__(self, path: str) -> None:\n",
    "        \"\"\"\n",
    "        inicjalizator wczytujacy obraz do atrybutu data na podstawie sciezki\n",
    "        \"\"\"\n",
    "        self.data = imread(path)\n",
    "        pass\n",
    "\n",
    "    def save_img(self, path: str) -> None:\n",
    "        \"\"\"\n",
    "        metoda zapisujaca obraz znajdujacy sie w atrybucie data do pliku\n",
    "        \"\"\"\n",
    "        imsave(path, self.data)\n",
    "        pass\n",
    "\n",
    "    def show_img(self) -> None:\n",
    "        \"\"\"\n",
    "        metoda wyswietlajaca obraz znajdujacy sie w atrybucie data\n",
    "        \"\"\"\n",
    "        imshow(self.data)\n",
    "        pass\n",
    "\n",
    "    def get_layer(self, layer_id: int) -> 'BaseImage':\n",
    "        \"\"\"\n",
    "        metoda zwracajaca warstwe o wskazanym indeksie\n",
    "        \"\"\"\n",
    "        temp: BaseImage = self\n",
    "        temp.data = temp.data[:, :, layer_id]\n",
    "        return temp\n",
    "\n",
    "        pass\n",
    "\n",
    "    def to_hsv(self) -> 'BaseImage':\n",
    "        \"\"\"\n",
    "        metoda dokonujaca konwersji obrazu w atrybucie data do modelu hsv\n",
    "        metoda zwraca nowy obiekt klasy image zawierajacy obraz w docelowym modelu barw\n",
    "        \"\"\"\n",
    "        np.set_printoptions(threshold=sys.maxsize)\n",
    "        M:np.ndarray = self.data.max(2)\n",
    "\n",
    "        m:np.ndarray = self.data.min(2)\n",
    "\n",
    "        V:np.ndarray = M / 255\n",
    "        for i in M:\n",
    "            if M[i]>0:\n",
    "                S:np.ndarray = 1 - (m/M)\n",
    "            else:\n",
    "                S:np.ndarray[i] = 0\n",
    "\n",
    "    def to_hsi(self) -> 'BaseImage':\n",
    "        \"\"\"\n",
    "        metoda dokonujaca konwersji obrazu w atrybucie data do modelu hsi\n",
    "        metoda zwraca nowy obiekt klasy image zawierajacy obraz w docelowym modelu barw\n",
    "        \"\"\"\n",
    "        pass\n",
    "\n",
    "    def to_hsl(self) -> 'BaseImage':\n",
    "        \"\"\"\n",
    "        metoda dokonujaca konwersji obrazu w atrybucie data do modelu hsl\n",
    "        metoda zwraca nowy obiekt klasy image zawierajacy obraz w docelowym modelu barw\n",
    "        \"\"\"\n",
    "        pass\n",
    "\n",
    "    def to_rgb(self) -> 'BaseImage':\n",
    "        \"\"\"\n",
    "        metoda dokonujaca konwersji obrazu w atrybucie data do modelu rgb\n",
    "        metoda zwraca nowy obiekt klasy image zawierajacy obraz w docelowym modelu barw\n",
    "        \"\"\"\n",
    "        pass"
   ],
   "metadata": {
    "collapsed": false
   }
  },
  {
   "cell_type": "code",
   "execution_count": 55,
   "outputs": [
    {
     "ename": "IndexError",
     "evalue": "index 228 is out of bounds for axis 0 with size 11",
     "output_type": "error",
     "traceback": [
      "\u001B[1;31m---------------------------------------------------------------------------\u001B[0m",
      "\u001B[1;31mIndexError\u001B[0m                                Traceback (most recent call last)",
      "Cell \u001B[1;32mIn [55], line 3\u001B[0m\n\u001B[0;32m      1\u001B[0m img_arr \u001B[38;5;241m=\u001B[39m imread(\u001B[38;5;124m\"\u001B[39m\u001B[38;5;124mlena_small.jpg\u001B[39m\u001B[38;5;124m\"\u001B[39m)\n\u001B[0;32m      2\u001B[0m my_image: BaseImage \u001B[38;5;241m=\u001B[39m BaseImage(\u001B[38;5;124m\"\u001B[39m\u001B[38;5;124mlena_small.jpg\u001B[39m\u001B[38;5;124m\"\u001B[39m)\n\u001B[1;32m----> 3\u001B[0m \u001B[43mmy_image\u001B[49m\u001B[38;5;241;43m.\u001B[39;49m\u001B[43mto_hsv\u001B[49m\u001B[43m(\u001B[49m\u001B[43m)\u001B[49m\n",
      "Cell \u001B[1;32mIn [54], line 48\u001B[0m, in \u001B[0;36mBaseImage.to_hsv\u001B[1;34m(self)\u001B[0m\n\u001B[0;32m     46\u001B[0m V:np\u001B[38;5;241m.\u001B[39mndarray \u001B[38;5;241m=\u001B[39m M \u001B[38;5;241m/\u001B[39m \u001B[38;5;241m255\u001B[39m\n\u001B[0;32m     47\u001B[0m \u001B[38;5;28;01mfor\u001B[39;00m i \u001B[38;5;129;01min\u001B[39;00m M:\n\u001B[1;32m---> 48\u001B[0m     \u001B[38;5;28;01mif\u001B[39;00m \u001B[43mM\u001B[49m\u001B[43m[\u001B[49m\u001B[43mi\u001B[49m\u001B[43m]\u001B[49m\u001B[38;5;241m>\u001B[39m\u001B[38;5;241m0\u001B[39m:\n\u001B[0;32m     49\u001B[0m         S:np\u001B[38;5;241m.\u001B[39mndarray \u001B[38;5;241m=\u001B[39m \u001B[38;5;241m1\u001B[39m \u001B[38;5;241m-\u001B[39m (m\u001B[38;5;241m/\u001B[39mM)\n\u001B[0;32m     50\u001B[0m     \u001B[38;5;28;01melse\u001B[39;00m:\n",
      "\u001B[1;31mIndexError\u001B[0m: index 228 is out of bounds for axis 0 with size 11"
     ]
    }
   ],
   "source": [
    "img_arr = imread(\"lena_small.jpg\")\n",
    "my_image: BaseImage = BaseImage(\"lena_small.jpg\")\n",
    "my_image.to_hsv()"
   ],
   "metadata": {
    "collapsed": false
   }
  },
  {
   "cell_type": "code",
   "execution_count": null,
   "outputs": [],
   "source": [],
   "metadata": {
    "collapsed": false
   }
  }
 ],
 "metadata": {
  "kernelspec": {
   "display_name": "Python 3",
   "language": "python",
   "name": "python3"
  },
  "language_info": {
   "codemirror_mode": {
    "name": "ipython",
    "version": 2
   },
   "file_extension": ".py",
   "mimetype": "text/x-python",
   "name": "python",
   "nbconvert_exporter": "python",
   "pygments_lexer": "ipython2",
   "version": "2.7.6"
  }
 },
 "nbformat": 4,
 "nbformat_minor": 0
}
