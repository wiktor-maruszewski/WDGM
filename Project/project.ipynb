{
 "cells": [
  {
   "cell_type": "code",
   "execution_count": 31,
   "metadata": {
    "collapsed": true
   },
   "outputs": [],
   "source": [
    "import math\n",
    "from enum import Enum\n",
    "\n",
    "import numpy\n",
    "import numpy as np\n",
    "from matplotlib.image import imread\n",
    "from matplotlib.image import imsave\n",
    "from matplotlib.pyplot import imshow\n",
    "from matplotlib.colors import hsv_to_rgb\n",
    "from matplotlib.colors import rgb_to_hsv\n",
    "import matplotlib.pyplot as plt\n",
    "import sys\n",
    "\n",
    "\n",
    "class ColorModel(Enum):\n",
    "    rgb = 0\n",
    "    hsv = 1\n",
    "    hsi = 2\n",
    "    hsl = 3\n",
    "    gray = 4  # obraz 2d"
   ]
  },
  {
   "cell_type": "code",
   "execution_count": 167,
   "outputs": [],
   "source": [
    "class BaseImage:\n",
    "    data: np.ndarray  # tensor przechowujacy piksele obrazu\n",
    "    color_model: ColorModel  # atrybut przechowujacy biezacy model barw obrazu\n",
    "\n",
    "    def __init__(self, path: str) -> None:\n",
    "        \"\"\"\n",
    "        inicjalizator wczytujacy obraz do atrybutu data na podstawie sciezki\n",
    "        \"\"\"\n",
    "        self.data = imread(path)\n",
    "        pass\n",
    "\n",
    "    def save_img(self, path: str) -> None:\n",
    "        \"\"\"\n",
    "        metoda zapisujaca obraz znajdujacy sie w atrybucie data do pliku\n",
    "        \"\"\"\n",
    "        imsave(path, self.data)\n",
    "        pass\n",
    "\n",
    "    def show_img(self) -> None:\n",
    "        \"\"\"\n",
    "        metoda wyswietlajaca obraz znajdujacy sie w atrybucie data\n",
    "        \"\"\"\n",
    "        imshow(self.data)\n",
    "        pass\n",
    "\n",
    "    def get_layer(self, layer_id: int) -> 'BaseImage':\n",
    "        \"\"\"\n",
    "        metoda zwracajaca warstwe o wskazanym indeksie\n",
    "        \"\"\"\n",
    "        temp: BaseImage = self\n",
    "        temp.data = temp.data[:, :, layer_id]\n",
    "        return temp\n",
    "\n",
    "        pass\n",
    "\n",
    "\n",
    "    def to_hsv(self) -> 'BaseImage':\n",
    "        \"\"\"\n",
    "        metoda dokonujaca konwersji obrazu w atrybucie data do modelu hsv\n",
    "        metoda zwraca nowy obiekt klasy image zawierajacy obraz w docelowym modelu barw\n",
    "        \"\"\"\n",
    "\n",
    "        M: np.ndarray = self.data.max(axis=2)\n",
    "        m: np.ndarray = self.data.min(axis=2)\n",
    "        V: np.ndarray = M / 255\n",
    "\n",
    "\n",
    "        S: np.ndarray = np.zeros(M.shape)\n",
    "\n",
    "        for i in range(0, S.shape[0]):\n",
    "            for j in range(0, S.shape[1]):\n",
    "                if M[i, j] > 0:\n",
    "                    S[i, j] = 1 - (m[i, j]/M[i, j])\n",
    "                else:\n",
    "                    S[i, j] = 0\n",
    "\n",
    "\n",
    "        H: np.ndarray = np.zeros(M.shape)\n",
    "\n",
    "        R1: np.ndarray = self.data[:, :, 0]\n",
    "        G2: np.ndarray = self.data[:, :, 1]\n",
    "        B3: np.ndarray = self.data[:, :, 2]\n",
    "\n",
    "        R: np.ndarray = self.data[:, :, 0]\n",
    "        G: np.ndarray = self.data[:, :, 1]\n",
    "        B: np.ndarray = self.data[:, :, 2]\n",
    "        R.astype(\"float64\")\n",
    "        G.astype(\"float64\")\n",
    "        B.astype(\"float64\")\n",
    "\n",
    "        for i in range(0, H.shape[0]):\n",
    "            for j in range(0, H.shape[1]):\n",
    "\n",
    "                temp: float = (R[i,j]-(1/2)*G[i,j]-(1/2)*B[i,j]) / (math.sqrt(R[i,j]**(2)+G[i,j]**(2)+B[i,j]**(2)-R[i,j]*G[i,j]-R[i,j]*B[i,j]-G[i,j]*B[i,j]))\n",
    "\n",
    "                R.astype(\"int8\")\n",
    "                G.astype(\"int8\")\n",
    "                B.astype(\"int8\")\n",
    "\n",
    "                if G[i, j] >= B[i, j]:\n",
    "                    H[i, j] = math.cos(temp)**(-1)\n",
    "                else:\n",
    "                    H[i,j] = 360 - math.cos(temp)**(-1)\n",
    "\n",
    "        H.astype(\"int16\")\n",
    "        S.astype(\"int16\")\n",
    "        B.astype(\"int16\")\n",
    "\n",
    "        test: np.ndarray = hsv_to_rgb(np.stack((H/360, S, V), axis=2))\n",
    "        print(test)\n",
    "        imshow(test, vmin=0, vmax=1)\n",
    "\n",
    "\n",
    "    def to_hsi(self) -> 'BaseImage':\n",
    "        \"\"\"\n",
    "        metoda dokonujaca konwersji obrazu w atrybucie data do modelu hsi\n",
    "        metoda zwraca nowy obiekt klasy image zawierajacy obraz w docelowym modelu barw\n",
    "        \"\"\"\n",
    "        pass\n",
    "\n",
    "    def to_hsl(self) -> 'BaseImage':\n",
    "        \"\"\"\n",
    "        metoda dokonujaca konwersji obrazu w atrybucie data do modelu hsl\n",
    "        metoda zwraca nowy obiekt klasy image zawierajacy obraz w docelowym modelu barw\n",
    "        \"\"\"\n",
    "        pass\n",
    "\n",
    "    def to_rgb(self) -> 'BaseImage':\n",
    "        \"\"\"\n",
    "        metoda dokonujaca konwersji obrazu w atrybucie data do modelu rgb\n",
    "        metoda zwraca nowy obiekt klasy image zawierajacy obraz w docelowym modelu barw\n",
    "        \"\"\"\n",
    "        pass"
   ],
   "metadata": {
    "collapsed": false
   }
  },
  {
   "cell_type": "code",
   "execution_count": 168,
   "outputs": [
    {
     "name": "stdout",
     "output_type": "stream",
     "text": [
      "[[[0.74117647 0.1254902  0.13724496]\n",
      "  [0.44313725 0.06666667 0.07316259]\n",
      "  [0.81568627 0.15294118 0.16552398]\n",
      "  [0.99215686 0.05882353 0.07952656]\n",
      "  [0.96078431 0.07843137 0.09783295]]\n",
      "\n",
      " [[0.39607843 0.         0.00865123]\n",
      "  [0.4745098  0.29019608 0.29330865]\n",
      "  [0.78823529 0.17254902 0.18435566]\n",
      "  [0.98039216 0.06666667 0.08678556]\n",
      "  [0.95686275 0.0745098  0.09386028]]\n",
      "\n",
      " [[0.81176471 0.28400044 0.2745098 ]\n",
      "  [0.71764706 0.4631458  0.45882353]\n",
      "  [0.72156863 0.2        0.21031669]\n",
      "  [0.95686275 0.08235294 0.10127478]\n",
      "  [0.96862745 0.08235294 0.10151345]]\n",
      "\n",
      " [[0.87843137 0.17716293 0.16470588]\n",
      "  [0.7372549  0.28994026 0.28235294]\n",
      "  [0.70196078 0.23137255 0.24067839]\n",
      "  [0.94901961 0.09803922 0.1161658 ]\n",
      "  [0.95686275 0.08235294 0.10114278]]\n",
      "\n",
      " [[0.85882353 0.17680334 0.16470588]\n",
      "  [0.72156863 0.28196424 0.2745098 ]\n",
      "  [0.72156863 0.24313725 0.25249445]\n",
      "  [0.91764706 0.06666667 0.08525013]\n",
      "  [0.94901961 0.09019608 0.10851539]]]\n"
     ]
    },
    {
     "name": "stderr",
     "output_type": "stream",
     "text": [
      "C:\\Users\\Wiktor\\AppData\\Local\\Temp\\ipykernel_17088\\2038876387.py:74: RuntimeWarning: overflow encountered in ubyte_scalars\n",
      "  temp: float = (R[i,j]-(1/2)*G[i,j]-(1/2)*B[i,j]) / (math.sqrt(R[i,j]**(2)+G[i,j]**(2)+B[i,j]**(2)-R[i,j]*G[i,j]-R[i,j]*B[i,j]-G[i,j]*B[i,j]))\n"
     ]
    },
    {
     "data": {
      "text/plain": "<Figure size 640x480 with 1 Axes>",
      "image/png": "[encoded data removed]"
     },
     "metadata": {},
     "output_type": "display_data"
    }
   ],
   "source": [
    "img_arr = imread(\"lena_small.jpg\")\n",
    "my_image: BaseImage = BaseImage(\"test.jpg\")\n",
    "my_image.to_hsv()"
   ],
   "metadata": {
    "collapsed": false
   }
  },
  {
   "cell_type": "code",
   "execution_count": 144,
   "outputs": [],
   "source": [],
   "metadata": {
    "collapsed": false
   }
  },
  {
   "cell_type": "code",
   "execution_count": null,
   "outputs": [],
   "source": [],
   "metadata": {
    "collapsed": false
   }
  }
 ],
 "metadata": {
  "kernelspec": {
   "display_name": "Python 3",
   "language": "python",
   "name": "python3"
  },
  "language_info": {
   "codemirror_mode": {
    "name": "ipython",
    "version": 2
   },
   "file_extension": ".py",
   "mimetype": "text/x-python",
   "name": "python",
   "nbconvert_exporter": "python",
   "pygments_lexer": "ipython2",
   "version": "2.7.6"
  }
 },
 "nbformat": 4,
 "nbformat_minor": 0
}
